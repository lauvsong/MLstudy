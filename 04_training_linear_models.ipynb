{
  "nbformat": 4,
  "nbformat_minor": 0,
  "metadata": {
    "colab": {
      "name": "04_training_linear_models.ipynb",
      "provenance": [],
      "collapsed_sections": [],
      "authorship_tag": "ABX9TyPl8Cc4ZeIdpfrS1Yc9SDw6",
      "include_colab_link": true
    },
    "kernelspec": {
      "name": "python3",
      "display_name": "Python 3"
    },
    "language_info": {
      "name": "python"
    }
  },
  "cells": [
    {
      "cell_type": "markdown",
      "metadata": {
        "id": "view-in-github",
        "colab_type": "text"
      },
      "source": [
        "<a href=\"https://colab.research.google.com/github/lauvsong/MLstudy/blob/master/04_training_linear_models.ipynb\" target=\"_parent\"><img src=\"https://colab.research.google.com/assets/colab-badge.svg\" alt=\"Open In Colab\"/></a>"
      ]
    },
    {
      "cell_type": "markdown",
      "metadata": {
        "id": "Ora8MeCm1q0_"
      },
      "source": [
        "# 선형 모델 훈련"
      ]
    },
    {
      "cell_type": "code",
      "metadata": {
        "colab": {
          "base_uri": "https://localhost:8080/"
        },
        "id": "chgz1jAR3xoe",
        "outputId": "4277f980-4800-42a6-a110-0e4ca7e2f9fb"
      },
      "source": [
        "from google.colab import drive\n",
        "drive.mount('/content/gdrive')"
      ],
      "execution_count": 2,
      "outputs": [
        {
          "output_type": "stream",
          "text": [
            "Mounted at /content/gdrive\n"
          ],
          "name": "stdout"
        }
      ]
    },
    {
      "cell_type": "code",
      "metadata": {
        "id": "ap3DvTqS0Ivc"
      },
      "source": [
        "import numpy as np\n",
        "import os\n",
        "\n",
        "np.random.seed(42)\n",
        "\n",
        "%matplotlib inline\n",
        "import matplotlib as mpl\n",
        "import matplotlib.pyplot as plt"
      ],
      "execution_count": 3,
      "outputs": []
    },
    {
      "cell_type": "code",
      "metadata": {
        "id": "vNbBi8rK0eRc"
      },
      "source": [
        "mpl.rc('axes', labelsize=14)\n",
        "mpl.rc('xtick', labelsize=12)\n",
        "mpl.rc('ytick', labelsize=12)"
      ],
      "execution_count": 4,
      "outputs": []
    },
    {
      "cell_type": "code",
      "metadata": {
        "id": "pwPyE0-l0yZD"
      },
      "source": [
        "PROJECT_ROOT_DIR = \"/content/gdrive/My Drive/handson/\"\n",
        "CHAPTER_ID = \"training_linear_models\"\n",
        "IMAGES_PATH = os.path.join(PROJECT_ROOT_DIR, \"images\", CHAPTER_ID)\n",
        "os.makedirs(IMAGES_PATH, exist_ok=True)"
      ],
      "execution_count": 5,
      "outputs": []
    },
    {
      "cell_type": "code",
      "metadata": {
        "id": "xTgD2FRA0-Yp"
      },
      "source": [
        "def save_fig(fig_id, tight_layout=True, fig_extension=\"png\", resolution=300):\n",
        "  path = os.path.join(IMAGES_PATH, fig_id + \".\" + fig_extension)\n",
        "  print(\"그림 저장:\", fig_id)\n",
        "  if tight_layout:\n",
        "    plt.tight_layout()\n",
        "  plt.savefig(path, format=fig_extension, dpi=resolution)"
      ],
      "execution_count": 6,
      "outputs": []
    },
    {
      "cell_type": "markdown",
      "metadata": {
        "id": "3glfWVg71myi"
      },
      "source": [
        "## 정규방정식"
      ]
    },
    {
      "cell_type": "code",
      "metadata": {
        "id": "bM25NspM1j5J"
      },
      "source": [
        "X = 2 * np.random.rand(100,1)\n",
        "y = 4 + 3 * X + np.random.randn(100,1)"
      ],
      "execution_count": 7,
      "outputs": []
    },
    {
      "cell_type": "code",
      "metadata": {
        "colab": {
          "base_uri": "https://localhost:8080/",
          "height": 315
        },
        "id": "z2gd8v_a2nqz",
        "outputId": "119b8b96-a047-43cf-f02e-57f708dca40e"
      },
      "source": [
        "plt.plot(X, y, \"b.\")\n",
        "plt.xlabel(\"$x_1$\", fontsize=18)\n",
        "plt.ylabel(\"$y$\", rotation=0, fontsize=18)\n",
        "plt.axis([0,2,0,15])\n",
        "save_fig(\"generated_data_plot\")\n",
        "plt.show()"
      ],
      "execution_count": 8,
      "outputs": [
        {
          "output_type": "stream",
          "text": [
            "그림 저장: generated_data_plot\n"
          ],
          "name": "stdout"
        },
        {
          "output_type": "display_data",
          "data": {
            "image/png": "[encoded data removed]",
            "text/plain": [
              "<Figure size 432x288 with 1 Axes>"
            ]
          },
          "metadata": {
            "tags": [],
            "needs_background": "light"
          }
        }
      ]
    },
    {
      "cell_type": "code",
      "metadata": {
        "id": "tb2Ismlg3IEO"
      },
      "source": [
        "X_b = np.c_[np.ones((100,1)),X] # 모든 샘플에 x0 = 1 추가 (절편항을 위해서!)\n",
        "theta_best = np.linalg.inv(X_b.T.dot(X_b)).dot(X_b.T).dot(y)"
      ],
      "execution_count": 9,
      "outputs": []
    },
    {
      "cell_type": "code",
      "metadata": {
        "colab": {
          "base_uri": "https://localhost:8080/"
        },
        "id": "izMb7CE65dDL",
        "outputId": "80a7643b-8280-46cf-880d-513ff5a0504d"
      },
      "source": [
        "theta_best"
      ],
      "execution_count": 10,
      "outputs": [
        {
          "output_type": "execute_result",
          "data": {
            "text/plain": [
              "array([[4.21509616],\n",
              "       [2.77011339]])"
            ]
          },
          "metadata": {
            "tags": []
          },
          "execution_count": 10
        }
      ]
    },
    {
      "cell_type": "code",
      "metadata": {
        "colab": {
          "base_uri": "https://localhost:8080/"
        },
        "id": "JMv2lx8V51BB",
        "outputId": "950ade01-472a-404b-b7c1-0f77f822e8ee"
      },
      "source": [
        "X_new = np.array([[0],[2]])\n",
        "X_new_b = np.c_[np.ones((2,1)), X_new]\n",
        "y_predict = X_new_b.dot(theta_best)\n",
        "y_predict"
      ],
      "execution_count": 11,
      "outputs": [
        {
          "output_type": "execute_result",
          "data": {
            "text/plain": [
              "array([[4.21509616],\n",
              "       [9.75532293]])"
            ]
          },
          "metadata": {
            "tags": []
          },
          "execution_count": 11
        }
      ]
    },
    {
      "cell_type": "code",
      "metadata": {
        "colab": {
          "base_uri": "https://localhost:8080/",
          "height": 315
        },
        "id": "N9OrAk1v7Fbf",
        "outputId": "32509f77-30ac-4337-d828-bf653369b5fd"
      },
      "source": [
        "plt.plot(X_new, y_predict, \"r-\", linewidth=2, label=\"Predictions\")\n",
        "plt.plot(X, y, \"b.\")\n",
        "plt.xlabel(\"$x_1$\", fontsize=18)\n",
        "plt.ylabel(\"$y$\", rotation=0, fontsize=14)\n",
        "plt.legend(loc=\"upper left\", fontsize=14)\n",
        "plt.axis([0,2,0,15])\n",
        "save_fig(\"linear_model_predictions_plot\")\n",
        "plt.show()"
      ],
      "execution_count": 12,
      "outputs": [
        {
          "output_type": "stream",
          "text": [
            "그림 저장: linear_model_predictions_plot\n"
          ],
          "name": "stdout"
        },
        {
          "output_type": "display_data",
          "data": {
            "image/png": "[encoded data removed]",
            "text/plain": [
              "<Figure size 432x288 with 1 Axes>"
            ]
          },
          "metadata": {
            "tags": [],
            "needs_background": "light"
          }
        }
      ]
    },
    {
      "cell_type": "code",
      "metadata": {
        "colab": {
          "base_uri": "https://localhost:8080/"
        },
        "id": "w23CLQk07OF3",
        "outputId": "c64a9f23-113c-4237-d9d4-ab833bcbac5d"
      },
      "source": [
        "from sklearn.linear_model import LinearRegression\n",
        "\n",
        "lin_reg = LinearRegression()\n",
        "lin_reg.fit(X,y)\n",
        "lin_reg.intercept_, lin_reg.coef_"
      ],
      "execution_count": 13,
      "outputs": [
        {
          "output_type": "execute_result",
          "data": {
            "text/plain": [
              "(array([4.21509616]), array([[2.77011339]]))"
            ]
          },
          "metadata": {
            "tags": []
          },
          "execution_count": 13
        }
      ]
    },
    {
      "cell_type": "code",
      "metadata": {
        "colab": {
          "base_uri": "https://localhost:8080/"
        },
        "id": "hLNa4gfnCVMy",
        "outputId": "4cbd3b0b-f2b0-4f62-9f6a-bdc52f405ed4"
      },
      "source": [
        "lin_reg.predict(X_new)"
      ],
      "execution_count": 14,
      "outputs": [
        {
          "output_type": "execute_result",
          "data": {
            "text/plain": [
              "array([[4.21509616],\n",
              "       [9.75532293]])"
            ]
          },
          "metadata": {
            "tags": []
          },
          "execution_count": 14
        }
      ]
    },
    {
      "cell_type": "code",
      "metadata": {
        "colab": {
          "base_uri": "https://localhost:8080/"
        },
        "id": "-8XUN3IjCVt2",
        "outputId": "a9696354-26c3-4cdd-f8ed-2cba7e955d50"
      },
      "source": [
        "theta_best_svd, residuals, rank, s = np.linalg.lstsq(X_b,y,rcond=1e-6)\n",
        "theta_best_svd"
      ],
      "execution_count": 15,
      "outputs": [
        {
          "output_type": "execute_result",
          "data": {
            "text/plain": [
              "array([[4.21509616],\n",
              "       [2.77011339]])"
            ]
          },
          "metadata": {
            "tags": []
          },
          "execution_count": 15
        }
      ]
    },
    {
      "cell_type": "code",
      "metadata": {
        "colab": {
          "base_uri": "https://localhost:8080/"
        },
        "id": "uPKxWW_YCVxS",
        "outputId": "fc95daca-b7e5-44a7-c4a2-9614b2301c2d"
      },
      "source": [
        "np.linalg.pinv(X_b).dot(y) # 유사역행렬"
      ],
      "execution_count": 16,
      "outputs": [
        {
          "output_type": "execute_result",
          "data": {
            "text/plain": [
              "array([[4.21509616],\n",
              "       [2.77011339]])"
            ]
          },
          "metadata": {
            "tags": []
          },
          "execution_count": 16
        }
      ]
    },
    {
      "cell_type": "markdown",
      "metadata": {
        "id": "-5xZZZH6DbqQ"
      },
      "source": [
        "## 배치 경사 하강법"
      ]
    },
    {
      "cell_type": "code",
      "metadata": {
        "id": "42x16EOQCV1Q"
      },
      "source": [
        "eta = 0.1\n",
        "n_iterations = 1000\n",
        "m = 100\n",
        "\n",
        "theta = np.random.randn(2,1)\n",
        "\n",
        "for iteration in range(n_iterations):\n",
        "  gradients = 2/m * X_b.T.dot(X_b.dot(theta) - y)\n",
        "  theta = theta - eta * gradients"
      ],
      "execution_count": 17,
      "outputs": []
    },
    {
      "cell_type": "code",
      "metadata": {
        "colab": {
          "base_uri": "https://localhost:8080/"
        },
        "id": "bvV6SaiUCV5J",
        "outputId": "3bc0eef9-5217-43d0-ed61-fa22ca737cbe"
      },
      "source": [
        "theta"
      ],
      "execution_count": 18,
      "outputs": [
        {
          "output_type": "execute_result",
          "data": {
            "text/plain": [
              "array([[4.21509616],\n",
              "       [2.77011339]])"
            ]
          },
          "metadata": {
            "tags": []
          },
          "execution_count": 18
        }
      ]
    },
    {
      "cell_type": "code",
      "metadata": {
        "colab": {
          "base_uri": "https://localhost:8080/"
        },
        "id": "MEnIIITZMKcS",
        "outputId": "381de749-4c5a-43a4-f083-b5f567737283"
      },
      "source": [
        "X_new_b.dot(theta)"
      ],
      "execution_count": 19,
      "outputs": [
        {
          "output_type": "execute_result",
          "data": {
            "text/plain": [
              "array([[4.21509616],\n",
              "       [9.75532293]])"
            ]
          },
          "metadata": {
            "tags": []
          },
          "execution_count": 19
        }
      ]
    },
    {
      "cell_type": "code",
      "metadata": {
        "id": "cLaCsKjCMKgG"
      },
      "source": [
        "theta_path_bgd = []\n",
        "\n",
        "def plot_gradient_descent(theta, eta, theta_path=None):\n",
        "  m = len(X_b)\n",
        "  plt.plot(X,y,\"b.\")\n",
        "  n_iterations = 1000\n",
        "  for iteration in range(n_iterations):\n",
        "    if iteration < 10:\n",
        "      y_predict = X_new_b.dot(theta)\n",
        "      style = \"b-\" if iteration > 0 else \"r--\"\n",
        "      plt.plot(X_new, y_predict, style)\n",
        "    gradients = 2/m * X_b.T.dot(X_b.dot(theta)-y)\n",
        "    theta = theta - eta * gradients\n",
        "    if theta_path is not None:\n",
        "      theta_path.append(theta)\n",
        "    plt.xlabel(\"$x_1$\", fontsize=18)\n",
        "    plt.axis([0,2,0,15])\n",
        "    plt.title(r\"$\\eta = {}$\".format(eta), fontsize=16)"
      ],
      "execution_count": 20,
      "outputs": []
    },
    {
      "cell_type": "code",
      "metadata": {
        "colab": {
          "base_uri": "https://localhost:8080/",
          "height": 283
        },
        "id": "qi2G2WNsMKj2",
        "outputId": "35e9d167-f239-402f-e35d-9c75739342f3"
      },
      "source": [
        "np.random.seed(42)\n",
        "theta = np.random.randn(2,1)\n",
        "\n",
        "plt.figure(figsize=(10,4))\n",
        "plt.subplot(131); plot_gradient_descent(theta, eta=0.02)\n",
        "plt.ylabel(\"$y$\", rotation=0, fontsize=18)\n",
        "plt.subplot(132); plot_gradient_descent(theta, eta=0.1, theta_path=theta_path_bgd)\n",
        "plt.subplot(133); plot_gradient_descent(theta, eta=0.5)\n",
        "\n",
        "save_fig(\"gradient_descent_plot\")\n",
        "plt.show()"
      ],
      "execution_count": 21,
      "outputs": [
        {
          "output_type": "stream",
          "text": [
            "그림 저장: gradient_descent_plot\n"
          ],
          "name": "stdout"
        },
        {
          "output_type": "display_data",
          "data": {
            "image/png": "[encoded data removed]",
            "text/plain": [
              "<Figure size 720x288 with 3 Axes>"
            ]
          },
          "metadata": {
            "tags": [],
            "needs_background": "light"
          }
        }
      ]
    },
    {
      "cell_type": "markdown",
      "metadata": {
        "id": "aqdMmDC7Qrxn"
      },
      "source": [
        "## 확률적 경사 하강법"
      ]
    },
    {
      "cell_type": "code",
      "metadata": {
        "id": "LohAsOOfMKnQ"
      },
      "source": [
        "theta_path_sgd = []\n",
        "m = len(X_b)\n",
        "np.random.seed(42)"
      ],
      "execution_count": 22,
      "outputs": []
    },
    {
      "cell_type": "code",
      "metadata": {
        "colab": {
          "base_uri": "https://localhost:8080/",
          "height": 315
        },
        "id": "LccuJ5-KMKqi",
        "outputId": "f180ac41-9aa3-4618-c5d4-00d622d139a4"
      },
      "source": [
        "n_epochs = 50\n",
        "t0, t1 = 5, 50 # 학습 스케줄\n",
        "\n",
        "def learning_schedule(t):\n",
        "  return t0 / (t + t1)\n",
        "\n",
        "theta = np.random.randn(2,1)\n",
        "\n",
        "for epoch in range(n_epochs):\n",
        "  for i in range(m):\n",
        "    if epoch == 0 and i < 20:\n",
        "      y_predict = X_new_b.dot(theta)\n",
        "      style = \"b-\" if i > 0 else \"r--\"\n",
        "      plt.plot(X_new, y_predict, style)\n",
        "    random_index = np.random.randint(m) # 매 반복마다 랜덤하게 선택\n",
        "    xi = X_b[random_index:random_index+1]\n",
        "    yi = y[random_index:random_index+1]\n",
        "    gradients = 2 * xi.T.dot(xi.dot(theta) - yi) # 한개씩만 훈련하기 때문에 분모는 1\n",
        "    eta = learning_schedule(epoch * m + i)\n",
        "    theta = theta - eta * gradients\n",
        "    theta_path_sgd.append(theta)\n",
        "\n",
        "plt.plot(X,y,\"b.\")\n",
        "plt.xlabel(\"$x_1$\", fontsize=18)                     \n",
        "plt.ylabel(\"$y$\", rotation=0, fontsize=18)           \n",
        "plt.axis([0, 2, 0, 15]) \n",
        "save_fig(\"sgd_plot\")\n",
        "plt.show()"
      ],
      "execution_count": 23,
      "outputs": [
        {
          "output_type": "stream",
          "text": [
            "그림 저장: sgd_plot\n"
          ],
          "name": "stdout"
        },
        {
          "output_type": "display_data",
          "data": {
            "image/png": "[encoded data removed]",
            "text/plain": [
              "<Figure size 432x288 with 1 Axes>"
            ]
          },
          "metadata": {
            "tags": [],
            "needs_background": "light"
          }
        }
      ]
    },
    {
      "cell_type": "code",
      "metadata": {
        "colab": {
          "base_uri": "https://localhost:8080/"
        },
        "id": "5zVyg3r2Q0Kq",
        "outputId": "f1a5c341-7b36-4313-e192-9167f6c28222"
      },
      "source": [
        "theta"
      ],
      "execution_count": 24,
      "outputs": [
        {
          "output_type": "execute_result",
          "data": {
            "text/plain": [
              "array([[4.21076011],\n",
              "       [2.74856079]])"
            ]
          },
          "metadata": {
            "tags": []
          },
          "execution_count": 24
        }
      ]
    },
    {
      "cell_type": "code",
      "metadata": {
        "colab": {
          "base_uri": "https://localhost:8080/"
        },
        "id": "mLBL5QKlQ0RN",
        "outputId": "409193a9-9a1f-4dbb-9832-7e8819040484"
      },
      "source": [
        "from sklearn.linear_model import SGDRegressor\n",
        "\n",
        "sgd_reg = SGDRegressor(max_iter=1000, tol=1e-3, penalty=None, eta0=0.1, random_state=42)\n",
        "sgd_reg.fit(X, y.ravel())"
      ],
      "execution_count": 25,
      "outputs": [
        {
          "output_type": "execute_result",
          "data": {
            "text/plain": [
              "SGDRegressor(alpha=0.0001, average=False, early_stopping=False, epsilon=0.1,\n",
              "             eta0=0.1, fit_intercept=True, l1_ratio=0.15,\n",
              "             learning_rate='invscaling', loss='squared_loss', max_iter=1000,\n",
              "             n_iter_no_change=5, penalty=None, power_t=0.25, random_state=42,\n",
              "             shuffle=True, tol=0.001, validation_fraction=0.1, verbose=0,\n",
              "             warm_start=False)"
            ]
          },
          "metadata": {
            "tags": []
          },
          "execution_count": 25
        }
      ]
    },
    {
      "cell_type": "code",
      "metadata": {
        "colab": {
          "base_uri": "https://localhost:8080/"
        },
        "id": "sq1WHSlnQ0X1",
        "outputId": "ea01551e-234c-42fe-c7df-188700eb0d49"
      },
      "source": [
        "sgd_reg.intercept_, sgd_reg.coef_"
      ],
      "execution_count": 26,
      "outputs": [
        {
          "output_type": "execute_result",
          "data": {
            "text/plain": [
              "(array([4.24365286]), array([2.8250878]))"
            ]
          },
          "metadata": {
            "tags": []
          },
          "execution_count": 26
        }
      ]
    },
    {
      "cell_type": "markdown",
      "metadata": {
        "id": "5Zdt-nCpSYBL"
      },
      "source": [
        "## 미니배치 경사 하강법"
      ]
    },
    {
      "cell_type": "code",
      "metadata": {
        "id": "ZKRyDT-DQ0dQ"
      },
      "source": [
        "theta_path_mgd = []\n",
        "\n",
        "n_iterations = 50\n",
        "minibatch_size = 20\n",
        "\n",
        "np.random.seed(42)\n",
        "theta = np.random.randn(2,1)  # 랜덤 초기화\n",
        "\n",
        "t0, t1 = 200, 1000\n",
        "def learning_schedule(t):\n",
        "    return t0 / (t + t1)\n",
        "\n",
        "t = 0\n",
        "for epoch in range(n_iterations):\n",
        "    shuffled_indices = np.random.permutation(m)\n",
        "    X_b_shuffled = X_b[shuffled_indices]\n",
        "    y_shuffled = y[shuffled_indices]\n",
        "    for i in range(0, m, minibatch_size):\n",
        "        t += 1\n",
        "        xi = X_b_shuffled[i:i+minibatch_size]\n",
        "        yi = y_shuffled[i:i+minibatch_size]\n",
        "        gradients = 2/minibatch_size * xi.T.dot(xi.dot(theta) - yi)\n",
        "        eta = learning_schedule(t)\n",
        "        theta = theta - eta * gradients\n",
        "        theta_path_mgd.append(theta)"
      ],
      "execution_count": 27,
      "outputs": []
    },
    {
      "cell_type": "code",
      "metadata": {
        "colab": {
          "base_uri": "https://localhost:8080/"
        },
        "id": "eUQxmAvaQ0iA",
        "outputId": "45bf0bb3-9c4b-401e-e258-002173e1f981"
      },
      "source": [
        "theta"
      ],
      "execution_count": 28,
      "outputs": [
        {
          "output_type": "execute_result",
          "data": {
            "text/plain": [
              "array([[4.25214635],\n",
              "       [2.7896408 ]])"
            ]
          },
          "metadata": {
            "tags": []
          },
          "execution_count": 28
        }
      ]
    },
    {
      "cell_type": "code",
      "metadata": {
        "id": "TCwuAfS1Q0na"
      },
      "source": [
        "theta_path_bgd = np.array(theta_path_bgd)\n",
        "theta_path_sgd = np.array(theta_path_sgd)\n",
        "theta_path_mgd = np.array(theta_path_mgd)"
      ],
      "execution_count": 29,
      "outputs": []
    },
    {
      "cell_type": "code",
      "metadata": {
        "colab": {
          "base_uri": "https://localhost:8080/",
          "height": 315
        },
        "id": "Mrmgvp57Q0r_",
        "outputId": "1a71c580-7a60-409d-90ba-211eaeab292e"
      },
      "source": [
        "plt.figure(figsize=(7,4))\n",
        "plt.plot(theta_path_sgd[:, 0], theta_path_sgd[:, 1], \"r-s\", linewidth=1, label=\"Stochastic\")\n",
        "plt.plot(theta_path_mgd[:, 0], theta_path_mgd[:, 1], \"g-+\", linewidth=2, label=\"Mini-batch\")\n",
        "plt.plot(theta_path_bgd[:, 0], theta_path_bgd[:, 1], \"b-o\", linewidth=3, label=\"Batch\")\n",
        "plt.legend(loc=\"upper left\", fontsize=16)\n",
        "plt.xlabel(r\"$\\theta_0$\", fontsize=20)\n",
        "plt.ylabel(r\"$\\theta_1$\", fontsize=20)\n",
        "plt.axis([2.5, 4.5, 2.3, 3.9])\n",
        "save_fig(\"gradient_descent_paths_plot\")\n",
        "plt.show()"
      ],
      "execution_count": 30,
      "outputs": [
        {
          "output_type": "stream",
          "text": [
            "그림 저장: gradient_descent_paths_plot\n"
          ],
          "name": "stdout"
        },
        {
          "output_type": "display_data",
          "data": {
            "image/png": "[encoded data removed]",
            "text/plain": [
              "<Figure size 504x288 with 1 Axes>"
            ]
          },
          "metadata": {
            "tags": [],
            "needs_background": "light"
          }
        }
      ]
    },
    {
      "cell_type": "markdown",
      "metadata": {
        "id": "XWFrXWLqYZ-O"
      },
      "source": [
        "## 다항 회귀"
      ]
    },
    {
      "cell_type": "code",
      "metadata": {
        "id": "9bRlS1btQ0wo"
      },
      "source": [
        "np.random.seed(42)"
      ],
      "execution_count": 31,
      "outputs": []
    },
    {
      "cell_type": "code",
      "metadata": {
        "id": "U3z8AWV7YXZe"
      },
      "source": [
        "# 비선형 데이터 (2차방정식) 생성\n",
        "m = 100\n",
        "X = 6 * np.random.rand(m,1) - 3\n",
        "y = 0.5 * X**2 + X + 2 + np.random.randn(m, 1)"
      ],
      "execution_count": 32,
      "outputs": []
    },
    {
      "cell_type": "code",
      "metadata": {
        "colab": {
          "base_uri": "https://localhost:8080/",
          "height": 315
        },
        "id": "MLIOHshhYXiO",
        "outputId": "be744f69-1c81-4322-de96-7c2bfcaaf291"
      },
      "source": [
        "plt.plot(X,y,\"b.\")\n",
        "plt.xlabel(\"$x_1$\", fontsize=18)\n",
        "plt.ylabel(\"$y$\", rotation=0, fontsize=18)\n",
        "plt.axis([-3,3,0,10])\n",
        "save_fig(\"quadratic_data_plot\")\n",
        "plt.show()"
      ],
      "execution_count": 33,
      "outputs": [
        {
          "output_type": "stream",
          "text": [
            "그림 저장: quadratic_data_plot\n"
          ],
          "name": "stdout"
        },
        {
          "output_type": "display_data",
          "data": {
            "image/png": "[encoded data removed]",
            "text/plain": [
              "<Figure size 432x288 with 1 Axes>"
            ]
          },
          "metadata": {
            "tags": [],
            "needs_background": "light"
          }
        }
      ]
    },
    {
      "cell_type": "code",
      "metadata": {
        "colab": {
          "base_uri": "https://localhost:8080/"
        },
        "id": "85zasP0lYXqK",
        "outputId": "5cdf72ce-a9ed-4181-8c1f-79d8227c8615"
      },
      "source": [
        "from sklearn.preprocessing import PolynomialFeatures\n",
        "\n",
        "poly_features = PolynomialFeatures(degree=2, include_bias=False)\n",
        "X_poly = poly_features.fit_transform(X)\n",
        "X[0]"
      ],
      "execution_count": 34,
      "outputs": [
        {
          "output_type": "execute_result",
          "data": {
            "text/plain": [
              "array([-0.75275929])"
            ]
          },
          "metadata": {
            "tags": []
          },
          "execution_count": 34
        }
      ]
    },
    {
      "cell_type": "code",
      "metadata": {
        "colab": {
          "base_uri": "https://localhost:8080/"
        },
        "id": "kcgugem2YXyP",
        "outputId": "d481f7fc-503d-4e83-aef5-2eeebf172a28"
      },
      "source": [
        "X_poly[0]"
      ],
      "execution_count": 35,
      "outputs": [
        {
          "output_type": "execute_result",
          "data": {
            "text/plain": [
              "array([-0.75275929,  0.56664654])"
            ]
          },
          "metadata": {
            "tags": []
          },
          "execution_count": 35
        }
      ]
    },
    {
      "cell_type": "code",
      "metadata": {
        "colab": {
          "base_uri": "https://localhost:8080/"
        },
        "id": "QYFqUQA2YX7N",
        "outputId": "ba0f5cbc-37fc-4876-ac84-60520cdd790a"
      },
      "source": [
        "lin_reg = LinearRegression()\n",
        "lin_reg.fit(X_poly, y)\n",
        "lin_reg.intercept_, lin_reg.coef_"
      ],
      "execution_count": 36,
      "outputs": [
        {
          "output_type": "execute_result",
          "data": {
            "text/plain": [
              "(array([1.78134581]), array([[0.93366893, 0.56456263]]))"
            ]
          },
          "metadata": {
            "tags": []
          },
          "execution_count": 36
        }
      ]
    },
    {
      "cell_type": "code",
      "metadata": {
        "id": "r96PN3nzYYDF"
      },
      "source": [
        "X_new = np.linspace(-3,3,100).reshape(100,1)\n",
        "X_new_poly = poly_features.transform(X_new)\n",
        "y_new = lin_reg.predict(X_new_poly)"
      ],
      "execution_count": 37,
      "outputs": []
    },
    {
      "cell_type": "code",
      "metadata": {
        "colab": {
          "base_uri": "https://localhost:8080/",
          "height": 315
        },
        "id": "_c1DwaGHYYJ6",
        "outputId": "4ccd6101-b486-4238-87fa-11c883470d5a"
      },
      "source": [
        "plt.plot(X,y,\"b.\")\n",
        "plt.plot(X_new, y_new, \"r-\", linewidth=2, label=\"Predictions\")\n",
        "plt.xlabel(\"$x_1$\", fontsize=18)\n",
        "plt.ylabel(\"$y$\", rotation=0, fontsize=18)\n",
        "plt.legend(loc=\"upper left\", fontsize=14)\n",
        "plt.axis([-3, 3, 0, 10])\n",
        "save_fig(\"quadratic_predictions_plot\")\n",
        "plt.show()"
      ],
      "execution_count": 38,
      "outputs": [
        {
          "output_type": "stream",
          "text": [
            "그림 저장: quadratic_predictions_plot\n"
          ],
          "name": "stdout"
        },
        {
          "output_type": "display_data",
          "data": {
            "image/png": "[encoded data removed]",
            "text/plain": [
              "<Figure size 432x288 with 1 Axes>"
            ]
          },
          "metadata": {
            "tags": [],
            "needs_background": "light"
          }
        }
      ]
    },
    {
      "cell_type": "code",
      "metadata": {
        "colab": {
          "base_uri": "https://localhost:8080/",
          "height": 315
        },
        "id": "LUJvEYrwYYrs",
        "outputId": "6d04f605-e097-403e-d748-3065ca41a33b"
      },
      "source": [
        "from sklearn.preprocessing import StandardScaler\n",
        "from sklearn.pipeline import Pipeline\n",
        "\n",
        "for style,width,degree in ((\"g-\", 1, 300), (\"b--\", 2, 2), (\"r-+\", 2, 1)):\n",
        "  polybig_features = PolynomialFeatures(degree=degree, include_bias=False)\n",
        "  std_scaler = StandardScaler()\n",
        "  lin_reg = LinearRegression()\n",
        "  polynomial_regression = Pipeline([\n",
        "    (\"poly_features\", polybig_features),\n",
        "    (\"std_scaler\", std_scaler),\n",
        "    (\"lin_reg\", lin_reg)\n",
        "  ])\n",
        "  polynomial_regression.fit(X,y)\n",
        "  y_newbig = polynomial_regression.predict(X_new)\n",
        "  plt.plot(X_new, y_newbig, style, label=str(degree), linewidth=width)\n",
        "\n",
        "plt.plot(X,y,\"b.\", linewidth=3)\n",
        "plt.legend(loc=\"upper left\")\n",
        "plt.xlabel(\"$x_1$\", fontsize=18)\n",
        "plt.ylabel(\"$y$\", rotation=0, fontsize=18)\n",
        "plt.axis([-3, 3, 0, 10])\n",
        "save_fig(\"high_degree_polynomials_plot\")\n",
        "plt.show()"
      ],
      "execution_count": 39,
      "outputs": [
        {
          "output_type": "stream",
          "text": [
            "그림 저장: high_degree_polynomials_plot\n"
          ],
          "name": "stdout"
        },
        {
          "output_type": "display_data",
          "data": {
            "image/png": "[encoded data removed]",
            "text/plain": [
              "<Figure size 432x288 with 1 Axes>"
            ]
          },
          "metadata": {
            "tags": [],
            "needs_background": "light"
          }
        }
      ]
    },
    {
      "cell_type": "code",
      "metadata": {
        "id": "MWtpySskYYx1"
      },
      "source": [
        "from sklearn.metrics import mean_squared_error\n",
        "from sklearn.model_selection import train_test_split\n",
        "\n",
        "def plot_learning_curves(model,X,y):\n",
        "  X_train, X_val, y_train, y_val = train_test_split(X,y,test_size=0.2, random_state=10)\n",
        "  train_errors, val_errors = [], []\n",
        "  for m in range(1, len(X_train)):\n",
        "    model.fit(X_train[:m], y_train[:m])\n",
        "    y_train_predict = model.predict(X_train[:m])\n",
        "    y_val_predict = model.predict(X_val)\n",
        "    train_errors.append(mean_squared_error(y_train[:m], y_train_predict))\n",
        "    val_errors.append(mean_squared_error(y_val, y_val_predict))\n",
        "\n",
        "  plt.plot(np.sqrt(train_errors), \"r-+\", linewidth=2, label=\"train\")\n",
        "  plt.plot(np.sqrt(val_errors), \"b-\", linewidth=3, label=\"val\")\n",
        "  plt.legend(loc=\"upper right\", fontsize=14)\n",
        "  plt.xlabel(\"Training set size\", fontsize=14)\n",
        "  plt.ylabel(\"RMSE\", fontsize=14)"
      ],
      "execution_count": 40,
      "outputs": []
    },
    {
      "cell_type": "code",
      "metadata": {
        "colab": {
          "base_uri": "https://localhost:8080/",
          "height": 315
        },
        "id": "J6bRjmPelnvW",
        "outputId": "5f8c03e4-c918-4c98-dd9d-c0876fbf972d"
      },
      "source": [
        "# 과소적합 모델\n",
        "lin_reg = LinearRegression()\n",
        "plot_learning_curves(lin_reg, X, y)\n",
        "plt.axis([0,80,0,3])\n",
        "save_fig(\"underfitting_learning_curves_plot\")\n",
        "plt.show()"
      ],
      "execution_count": 41,
      "outputs": [
        {
          "output_type": "stream",
          "text": [
            "그림 저장: underfitting_learning_curves_plot\n"
          ],
          "name": "stdout"
        },
        {
          "output_type": "display_data",
          "data": {
            "image/png": "[encoded data removed]",
            "text/plain": [
              "<Figure size 432x288 with 1 Axes>"
            ]
          },
          "metadata": {
            "tags": [],
            "needs_background": "light"
          }
        }
      ]
    },
    {
      "cell_type": "code",
      "metadata": {
        "colab": {
          "base_uri": "https://localhost:8080/",
          "height": 315
        },
        "id": "A1YXI3gRln3S",
        "outputId": "2aaf9564-912f-4f08-8293-5cfed316d4f3"
      },
      "source": [
        "# 과대적합 모델\n",
        "polynomial_regression = Pipeline([\n",
        "                                  (\"poly_features\", PolynomialFeatures(degree=10, include_bias=False)),\n",
        "                                  (\"lin_reg\", LinearRegression())\n",
        "])\n",
        "plot_learning_curves(polynomial_regression, X, y)\n",
        "plt.axis([0,80,0,3])\n",
        "save_fig(\"learning_curves_plot\")\n",
        "plt.show()"
      ],
      "execution_count": 42,
      "outputs": [
        {
          "output_type": "stream",
          "text": [
            "그림 저장: learning_curves_plot\n"
          ],
          "name": "stdout"
        },
        {
          "output_type": "display_data",
          "data": {
            "image/png": "[encoded data removed]",
            "text/plain": [
              "<Figure size 432x288 with 1 Axes>"
            ]
          },
          "metadata": {
            "tags": [],
            "needs_background": "light"
          }
        }
      ]
    },
    {
      "cell_type": "markdown",
      "metadata": {
        "id": "RaPqoISjEkxi"
      },
      "source": [
        "## 규제가 있는 모델\n",
        "\n",
        "### Ridge Regression\n",
        "\n",
        "$ J(\\boldsymbol{\\theta}) = \\text{MSE}(\\boldsymbol{\\theta}) + \\alpha \\dfrac{1}{2}\\sum\\limits_{i=1}^{n}{\\theta_i}^2 $\n"
      ]
    },
    {
      "cell_type": "code",
      "metadata": {
        "id": "3Z0QtQYuln-z"
      },
      "source": [
        "np.random.seed(42)\n",
        "m = 20\n",
        "X = 3 * np.random.rand(m, 1)\n",
        "y = 1 + 0.5 * X + np.random.randn(m, 1) / 1.5\n",
        "X_new = np.linspace(0,3,100).reshape(100,1)"
      ],
      "execution_count": 43,
      "outputs": []
    },
    {
      "cell_type": "code",
      "metadata": {
        "colab": {
          "base_uri": "https://localhost:8080/"
        },
        "id": "q7D2F8qpYY4Y",
        "outputId": "3176933a-1879-4cf9-95b4-57f81ae3147b"
      },
      "source": [
        "from sklearn.linear_model import Ridge\n",
        "\n",
        "ridge_reg = Ridge(alpha=1, solver=\"cholesky\", random_state=42)\n",
        "ridge_reg.fit(X,y)\n",
        "ridge_reg.predict([[1.5]])"
      ],
      "execution_count": 44,
      "outputs": [
        {
          "output_type": "execute_result",
          "data": {
            "text/plain": [
              "array([[1.55071465]])"
            ]
          },
          "metadata": {
            "tags": []
          },
          "execution_count": 44
        }
      ]
    },
    {
      "cell_type": "code",
      "metadata": {
        "colab": {
          "base_uri": "https://localhost:8080/"
        },
        "id": "Irwe4kPRYZAI",
        "outputId": "287e1fc9-0fce-415d-e7da-0f2c7c77790c"
      },
      "source": [
        "ridge_reg = Ridge(alpha=1, solver=\"sag\", random_state=42)\n",
        "ridge_reg.fit(X,y)\n",
        "ridge_reg.predict([[1.5]])"
      ],
      "execution_count": 45,
      "outputs": [
        {
          "output_type": "execute_result",
          "data": {
            "text/plain": [
              "array([[1.5507201]])"
            ]
          },
          "metadata": {
            "tags": []
          },
          "execution_count": 45
        }
      ]
    },
    {
      "cell_type": "code",
      "metadata": {
        "id": "9VR6n9DlYZG7"
      },
      "source": [
        "def plot_model(model_class, polynomial, alphas, **model_kargs):\n",
        "  for alpha, style in zip(alphas, (\"b-\", \"g--\", \"r:\")):\n",
        "    model = model_class(alpha, **model_kargs) if alpha > 0 else LinearRegression()\n",
        "    if polynomial:\n",
        "      model = Pipeline([\n",
        "                        (\"poly_features\", PolynomialFeatures(degree=10, include_bias=False)),\n",
        "                        (\"std_scaler\", StandardScaler()),\n",
        "                        (\"regul_reg\", model)\n",
        "      ])\n",
        "    model.fit(X,y)\n",
        "    y_new_regul = model.predict(X_new)\n",
        "    lw = 2 if alpha > 0 else 1\n",
        "    plt.plot(X_new, y_new_regul, style, linewidth=lw, label=r\"$\\alpha = {}$\".format(alpha))\n",
        "\n",
        "  plt.plot(X, y, \"b.\", linewidth=3)\n",
        "  plt.legend(loc=\"upper left\", fontsize=15)\n",
        "  plt.xlabel(\"$x_1$\", fontsize=18)\n",
        "  plt.axis([0, 3, 0, 4])"
      ],
      "execution_count": 46,
      "outputs": []
    },
    {
      "cell_type": "code",
      "metadata": {
        "colab": {
          "base_uri": "https://localhost:8080/",
          "height": 315
        },
        "id": "c_MNSGonGYRq",
        "outputId": "c1049311-4daf-438f-e259-dc8b0512fbc8"
      },
      "source": [
        "plt.figure(figsize=(8,4))\n",
        "plt.subplot(121)\n",
        "plot_model(Ridge, polynomial=False, alphas=(0, 10, 100), random_state=42)\n",
        "plt.subplot(122)\n",
        "plot_model(Ridge, polynomial=True, alphas=(0, 10**-5, 1), random_state=42)\n",
        "\n",
        "save_fig(\"ridge_regression_plot\")\n",
        "plt.show()"
      ],
      "execution_count": 47,
      "outputs": [
        {
          "output_type": "stream",
          "text": [
            "그림 저장: ridge_regression_plot\n"
          ],
          "name": "stdout"
        },
        {
          "output_type": "display_data",
          "data": {
            "image/png": "[encoded data removed]",
            "text/plain": [
              "<Figure size 576x288 with 2 Axes>"
            ]
          },
          "metadata": {
            "tags": [],
            "needs_background": "light"
          }
        }
      ]
    },
    {
      "cell_type": "code",
      "metadata": {
        "colab": {
          "base_uri": "https://localhost:8080/"
        },
        "id": "y6VGTh8iGYau",
        "outputId": "5e4275d8-e8fc-4660-d406-372ef68290dc"
      },
      "source": [
        "# SGD\n",
        "# penalty(규제)를 l2로 지정함으로써 릿지회귀와 동일\n",
        "sgd_reg = SGDRegressor(penalty=\"l2\", max_iter=1000, tol=1e-3, random_state=42)\n",
        "sgd_reg.fit(X, y.ravel())\n",
        "sgd_reg.predict([[1.5]])"
      ],
      "execution_count": 48,
      "outputs": [
        {
          "output_type": "execute_result",
          "data": {
            "text/plain": [
              "array([1.47012588])"
            ]
          },
          "metadata": {
            "tags": []
          },
          "execution_count": 48
        }
      ]
    },
    {
      "cell_type": "markdown",
      "metadata": {
        "id": "6vIIGVNYK6pE"
      },
      "source": [
        "### Lasso Regression\n",
        "\n",
        "$ J(\\boldsymbol{\\theta}) = \\text{MSE}(\\boldsymbol{\\theta}) + \\alpha \\sum\\limits_{i=1}^{n}\\left| \\theta_i \\right| $"
      ]
    },
    {
      "cell_type": "code",
      "metadata": {
        "colab": {
          "base_uri": "https://localhost:8080/",
          "height": 372
        },
        "id": "oonbsqpzGYjw",
        "outputId": "a18fcc11-53a4-4d44-87d3-8951eb9f53de"
      },
      "source": [
        "from sklearn.linear_model import Lasso\n",
        "\n",
        "plt.figure(figsize=(8,4))\n",
        "plt.subplot(121)\n",
        "plot_model(Lasso, polynomial=False, alphas=(0, 0.1, 1), random_state=42)\n",
        "plt.ylabel(\"$y$\", rotation=0, fontsize=18)\n",
        "plt.subplot(122)\n",
        "plot_model(Lasso, polynomial=True, alphas=(0, 10**-7, 1), random_state=42)\n",
        "\n",
        "save_fig(\"lasso_regression_plot\")\n",
        "plt.show()"
      ],
      "execution_count": 49,
      "outputs": [
        {
          "output_type": "stream",
          "text": [
            "/usr/local/lib/python3.7/dist-packages/sklearn/linear_model/_coordinate_descent.py:476: ConvergenceWarning: Objective did not converge. You might want to increase the number of iterations. Duality gap: 2.802867703827423, tolerance: 0.0009294783355207351\n",
            "  positive)\n"
          ],
          "name": "stderr"
        },
        {
          "output_type": "stream",
          "text": [
            "그림 저장: lasso_regression_plot\n"
          ],
          "name": "stdout"
        },
        {
          "output_type": "display_data",
          "data": {
            "image/png": "[encoded data removed]",
            "text/plain": [
              "<Figure size 576x288 with 2 Axes>"
            ]
          },
          "metadata": {
            "tags": [],
            "needs_background": "light"
          }
        }
      ]
    },
    {
      "cell_type": "code",
      "metadata": {
        "colab": {
          "base_uri": "https://localhost:8080/"
        },
        "id": "08IWa8baMtl-",
        "outputId": "8aa383cf-53bf-44f9-cc6d-aa6a0763e4a7"
      },
      "source": [
        "lasso_reg = Lasso(alpha=0.1)\n",
        "lasso_reg.fit(X,y)\n",
        "lasso_reg.predict([[1.5]])"
      ],
      "execution_count": 50,
      "outputs": [
        {
          "output_type": "execute_result",
          "data": {
            "text/plain": [
              "array([1.53788174])"
            ]
          },
          "metadata": {
            "tags": []
          },
          "execution_count": 50
        }
      ]
    },
    {
      "cell_type": "markdown",
      "metadata": {
        "id": "3piy0j9IMUX_"
      },
      "source": [
        "### Elastic Net\n",
        "\n",
        "$ J(\\boldsymbol{\\theta}) = \\text{MSE}(\\boldsymbol{\\theta}) + r \\alpha \\sum\\limits_{i=1}^{n}\\left| \\theta_i \\right| + \\dfrac{1 - r}{2} \\alpha \\sum\\limits_{i=1}^{n}{{\\theta_i}^2} $"
      ]
    },
    {
      "cell_type": "code",
      "metadata": {
        "colab": {
          "base_uri": "https://localhost:8080/"
        },
        "id": "4ZBmNMhUGYsP",
        "outputId": "a7cba313-ad51-49a2-cae2-9810c23acea2"
      },
      "source": [
        "from sklearn.linear_model import ElasticNet\n",
        "\n",
        "elastic_net = ElasticNet(alpha=0.1, l1_ratio=0.5, random_state=42)\n",
        "elastic_net.fit(X,y)\n",
        "elastic_net.predict([[1.5]])"
      ],
      "execution_count": 51,
      "outputs": [
        {
          "output_type": "execute_result",
          "data": {
            "text/plain": [
              "array([1.54333232])"
            ]
          },
          "metadata": {
            "tags": []
          },
          "execution_count": 51
        }
      ]
    },
    {
      "cell_type": "markdown",
      "metadata": {
        "id": "zZrs2zRoqnSo"
      },
      "source": [
        "## 로지스틱 회귀"
      ]
    },
    {
      "cell_type": "code",
      "metadata": {
        "colab": {
          "base_uri": "https://localhost:8080/",
          "height": 240
        },
        "id": "Zz5tCwgtMqMR",
        "outputId": "86c7673d-63fa-42b9-c11f-fc181b8a6de5"
      },
      "source": [
        "t = np.linspace(-10, 10, 100)\n",
        "sig = 1 / (1 + np.exp(-t))\n",
        "\n",
        "plt.figure(figsize=(9,3))\n",
        "plt.plot([-10, 10], [0, 0], \"k-\")\n",
        "plt.plot([-10, 10], [0.5, 0.5], \"k:\")\n",
        "plt.plot([-10, 10], [1, 1], \"k:\")\n",
        "plt.plot([0, 0], [-1.1, 1.1], \"k-\")\n",
        "plt.plot(t, sig, \"b-\", linewidth=2, label=r\"$\\sigma(t) = \\frac{1}{1+e^{-t}}$\")\n",
        "plt.xlabel(\"t\")\n",
        "plt.legend(loc=\"upper left\", fontsize=20)\n",
        "plt.axis([-10, 10, -0.1, 1.1])\n",
        "save_fig(\"logistic_function_plot\")\n",
        "plt.show()"
      ],
      "execution_count": 52,
      "outputs": [
        {
          "output_type": "stream",
          "text": [
            "그림 저장: logistic_function_plot\n"
          ],
          "name": "stdout"
        },
        {
          "output_type": "display_data",
          "data": {
            "image/png": "[encoded data removed]",
            "text/plain": [
              "<Figure size 648x216 with 1 Axes>"
            ]
          },
          "metadata": {
            "tags": [],
            "needs_background": "light"
          }
        }
      ]
    },
    {
      "cell_type": "markdown",
      "metadata": {
        "id": "qsbkXEH2sirM"
      },
      "source": [
        "### 하나의 훈련 샘플에 대한 비용 함수\n",
        "![image.png](data:image/png;base64,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)\n",
        "\n",
        "### 비용 함수\n",
        "$ J(\\boldsymbol{\\theta}) = -\\dfrac{1}{m} \\sum\\limits_{i=1}^{m}{\\left[ y^{(i)} log\\left(\\hat{p}^{(i)}\\right) + (1 - y^{(i)}) log\\left(1 - \\hat{p}^{(i)}\\right)\\right]} $\n",
        "\n",
        "### 비용함수의 편도함수\n",
        "$ \\dfrac{\\partial}{\\partial \\theta_j} \\text{J}(\\boldsymbol{\\theta}) = \\dfrac{1}{m}\\sum\\limits_{i=1}^{m}\\left(\\mathbf{\\sigma(\\boldsymbol{\\theta}}^T \\mathbf{x}^{(i)}) - y^{(i)}\\right)\\, x_j^{(i)} $\n"
      ]
    },
    {
      "cell_type": "code",
      "metadata": {
        "colab": {
          "base_uri": "https://localhost:8080/"
        },
        "id": "w-cHpZw7MqXr",
        "outputId": "11238d6b-ac4a-4057-a700-21f9109c3b26"
      },
      "source": [
        "from sklearn import datasets\n",
        "\n",
        "iris = datasets.load_iris()\n",
        "list(iris.keys())"
      ],
      "execution_count": 53,
      "outputs": [
        {
          "output_type": "execute_result",
          "data": {
            "text/plain": [
              "['data', 'target', 'target_names', 'DESCR', 'feature_names', 'filename']"
            ]
          },
          "metadata": {
            "tags": []
          },
          "execution_count": 53
        }
      ]
    },
    {
      "cell_type": "code",
      "metadata": {
        "colab": {
          "base_uri": "https://localhost:8080/"
        },
        "id": "ztaIAFiFMqhe",
        "outputId": "577c5035-6953-4f23-fce5-6d76671e25b7"
      },
      "source": [
        "print(iris.DESCR)"
      ],
      "execution_count": 54,
      "outputs": [
        {
          "output_type": "stream",
          "text": [
            ".. _iris_dataset:\n",
            "\n",
            "Iris plants dataset\n",
            "--------------------\n",
            "\n",
            "**Data Set Characteristics:**\n",
            "\n",
            "    :Number of Instances: 150 (50 in each of three classes)\n",
            "    :Number of Attributes: 4 numeric, predictive attributes and the class\n",
            "    :Attribute Information:\n",
            "        - sepal length in cm\n",
            "        - sepal width in cm\n",
            "        - petal length in cm\n",
            "        - petal width in cm\n",
            "        - class:\n",
            "                - Iris-Setosa\n",
            "                - Iris-Versicolour\n",
            "                - Iris-Virginica\n",
            "                \n",
            "    :Summary Statistics:\n",
            "\n",
            "    ============== ==== ==== ======= ===== ====================\n",
            "                    Min  Max   Mean    SD   Class Correlation\n",
            "    ============== ==== ==== ======= ===== ====================\n",
            "    sepal length:   4.3  7.9   5.84   0.83    0.7826\n",
            "    sepal width:    2.0  4.4   3.05   0.43   -0.4194\n",
            "    petal length:   1.0  6.9   3.76   1.76    0.9490  (high!)\n",
            "    petal width:    0.1  2.5   1.20   0.76    0.9565  (high!)\n",
            "    ============== ==== ==== ======= ===== ====================\n",
            "\n",
            "    :Missing Attribute Values: None\n",
            "    :Class Distribution: 33.3% for each of 3 classes.\n",
            "    :Creator: R.A. Fisher\n",
            "    :Donor: Michael Marshall (MARSHALL%PLU@io.arc.nasa.gov)\n",
            "    :Date: July, 1988\n",
            "\n",
            "The famous Iris database, first used by Sir R.A. Fisher. The dataset is taken\n",
            "from Fisher's paper. Note that it's the same as in R, but not as in the UCI\n",
            "Machine Learning Repository, which has two wrong data points.\n",
            "\n",
            "This is perhaps the best known database to be found in the\n",
            "pattern recognition literature.  Fisher's paper is a classic in the field and\n",
            "is referenced frequently to this day.  (See Duda & Hart, for example.)  The\n",
            "data set contains 3 classes of 50 instances each, where each class refers to a\n",
            "type of iris plant.  One class is linearly separable from the other 2; the\n",
            "latter are NOT linearly separable from each other.\n",
            "\n",
            ".. topic:: References\n",
            "\n",
            "   - Fisher, R.A. \"The use of multiple measurements in taxonomic problems\"\n",
            "     Annual Eugenics, 7, Part II, 179-188 (1936); also in \"Contributions to\n",
            "     Mathematical Statistics\" (John Wiley, NY, 1950).\n",
            "   - Duda, R.O., & Hart, P.E. (1973) Pattern Classification and Scene Analysis.\n",
            "     (Q327.D83) John Wiley & Sons.  ISBN 0-471-22361-1.  See page 218.\n",
            "   - Dasarathy, B.V. (1980) \"Nosing Around the Neighborhood: A New System\n",
            "     Structure and Classification Rule for Recognition in Partially Exposed\n",
            "     Environments\".  IEEE Transactions on Pattern Analysis and Machine\n",
            "     Intelligence, Vol. PAMI-2, No. 1, 67-71.\n",
            "   - Gates, G.W. (1972) \"The Reduced Nearest Neighbor Rule\".  IEEE Transactions\n",
            "     on Information Theory, May 1972, 431-433.\n",
            "   - See also: 1988 MLC Proceedings, 54-64.  Cheeseman et al\"s AUTOCLASS II\n",
            "     conceptual clustering system finds 3 classes in the data.\n",
            "   - Many, many more ...\n"
          ],
          "name": "stdout"
        }
      ]
    },
    {
      "cell_type": "code",
      "metadata": {
        "id": "CYrU4-mSMqsS"
      },
      "source": [
        "X = iris[\"data\"][:,3:]\n",
        "y = (iris[\"target\"] == 2).astype(np.int)"
      ],
      "execution_count": 57,
      "outputs": []
    },
    {
      "cell_type": "code",
      "metadata": {
        "colab": {
          "base_uri": "https://localhost:8080/"
        },
        "id": "ln1RxxqKvbID",
        "outputId": "ded6f3bb-86d0-4f43-f09c-e2912d69b725"
      },
      "source": [
        "from sklearn.linear_model import LogisticRegression\n",
        "\n",
        "log_reg = LogisticRegression(solver=\"lbfgs\", random_state=42)\n",
        "log_reg.fit(X, y)"
      ],
      "execution_count": 58,
      "outputs": [
        {
          "output_type": "execute_result",
          "data": {
            "text/plain": [
              "LogisticRegression(C=1.0, class_weight=None, dual=False, fit_intercept=True,\n",
              "                   intercept_scaling=1, l1_ratio=None, max_iter=100,\n",
              "                   multi_class='auto', n_jobs=None, penalty='l2',\n",
              "                   random_state=42, solver='lbfgs', tol=0.0001, verbose=0,\n",
              "                   warm_start=False)"
            ]
          },
          "metadata": {
            "tags": []
          },
          "execution_count": 58
        }
      ]
    },
    {
      "cell_type": "code",
      "metadata": {
        "colab": {
          "base_uri": "https://localhost:8080/",
          "height": 287
        },
        "id": "8-C0qurYvbXu",
        "outputId": "d88245ef-08a0-403a-c1e0-4676d3683925"
      },
      "source": [
        "X_new= np.linspace(0, 3, 1000).reshape(-1, 1)\n",
        "y_proba = log_reg.predict_proba(X_new)\n",
        "decision_boundary = X_new[y_proba[:, 1] >= 0.5][0]\n",
        "\n",
        "plt.axis([0, 3, -0.02, 1.02])\n",
        "plt.plot([decision_boundary, decision_boundary], [-1, 2], \"k:\", linewidth=2)\n",
        "plt.plot(X_new, y_proba[:, 1], \"g-\", linewidth=2, label=\"Iris virginica\")\n",
        "plt.plot(X_new, y_proba[:, 0], \"b--\", linewidth=2, label=\"Not Iris virginica\")"
      ],
      "execution_count": 71,
      "outputs": [
        {
          "output_type": "execute_result",
          "data": {
            "text/plain": [
              "[<matplotlib.lines.Line2D at 0x7fecad317d50>]"
            ]
          },
          "metadata": {
            "tags": []
          },
          "execution_count": 71
        },
        {
          "output_type": "display_data",
          "data": {
            "image/png": "[encoded data removed]",
            "text/plain": [
              "<Figure size 432x288 with 1 Axes>"
            ]
          },
          "metadata": {
            "tags": [],
            "needs_background": "light"
          }
        }
      ]
    },
    {
      "cell_type": "code",
      "metadata": {
        "colab": {
          "base_uri": "https://localhost:8080/"
        },
        "id": "5zAxUr32vbl5",
        "outputId": "2bd941ca-17b8-4937-bbd3-d4434e521872"
      },
      "source": [
        "decision_boundary"
      ],
      "execution_count": 72,
      "outputs": [
        {
          "output_type": "execute_result",
          "data": {
            "text/plain": [
              "array([1.66066066])"
            ]
          },
          "metadata": {
            "tags": []
          },
          "execution_count": 72
        }
      ]
    },
    {
      "cell_type": "code",
      "metadata": {
        "colab": {
          "base_uri": "https://localhost:8080/"
        },
        "id": "dfXCqaT9vb0I",
        "outputId": "d51d9ef5-5916-4cfb-85e8-7b7273a2ef5d"
      },
      "source": [
        "log_reg.predict([[1.7], [1.5]])"
      ],
      "execution_count": 73,
      "outputs": [
        {
          "output_type": "execute_result",
          "data": {
            "text/plain": [
              "array([1, 0])"
            ]
          },
          "metadata": {
            "tags": []
          },
          "execution_count": 73
        }
      ]
    },
    {
      "cell_type": "code",
      "metadata": {
        "id": "Novp2dPqvcC7"
      },
      "source": [
        ""
      ],
      "execution_count": null,
      "outputs": []
    },
    {
      "cell_type": "code",
      "metadata": {
        "id": "ABmLUqZUvchv"
      },
      "source": [
        ""
      ],
      "execution_count": null,
      "outputs": []
    },
    {
      "cell_type": "code",
      "metadata": {
        "id": "wroWIi3IvcwI"
      },
      "source": [
        ""
      ],
      "execution_count": null,
      "outputs": []
    },
    {
      "cell_type": "code",
      "metadata": {
        "id": "67dEsI_kvdAk"
      },
      "source": [
        ""
      ],
      "execution_count": null,
      "outputs": []
    },
    {
      "cell_type": "code",
      "metadata": {
        "id": "hrqIz91CvdPw"
      },
      "source": [
        ""
      ],
      "execution_count": null,
      "outputs": []
    }
  ]
}