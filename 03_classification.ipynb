{
  "nbformat": 4,
  "nbformat_minor": 0,
  "metadata": {
    "accelerator": "TPU",
    "colab": {
      "name": "03_mnist.ipynb",
      "provenance": [],
      "collapsed_sections": []
    },
    "kernelspec": {
      "display_name": "Python 3",
      "language": "python",
      "name": "python3"
    },
    "language_info": {
      "codemirror_mode": {
        "name": "ipython",
        "version": 3
      },
      "file_extension": ".py",
      "mimetype": "text/x-python",
      "name": "python",
      "nbconvert_exporter": "python",
      "pygments_lexer": "ipython3",
      "version": "3.6.6"
    }
  },
  "cells": [
    {
      "cell_type": "markdown",
      "metadata": {
        "id": "1SsQkhbAwMOr"
      },
      "source": [
        "## MNIST CLASSIFICATION"
      ]
    },
    {
      "cell_type": "code",
      "metadata": {
        "colab": {
          "base_uri": "https://localhost:8080/"
        },
        "id": "hMn50jSRwMOu",
        "outputId": "1476eac6-d2c0-4607-b2ee-7bf97ef20760"
      },
      "source": [
        "from sklearn.datasets import fetch_openml\n",
        "mnist = fetch_openml('mnist_784', version=1, cache=False)\n",
        "mnist.keys()"
      ],
      "execution_count": 1,
      "outputs": [
        {
          "output_type": "execute_result",
          "data": {
            "text/plain": [
              "dict_keys(['data', 'target', 'frame', 'feature_names', 'target_names', 'DESCR', 'details', 'categories', 'url'])"
            ]
          },
          "metadata": {
            "tags": []
          },
          "execution_count": 1
        }
      ]
    },
    {
      "cell_type": "code",
      "metadata": {
        "colab": {
          "base_uri": "https://localhost:8080/"
        },
        "id": "hwpSjvgLwMOv",
        "outputId": "202cbe48-7e3b-4827-ee14-71b348c3c179"
      },
      "source": [
        "X,y = mnist[\"data\"], mnist[\"target\"]\n",
        "X.shape, y.shape"
      ],
      "execution_count": 2,
      "outputs": [
        {
          "output_type": "execute_result",
          "data": {
            "text/plain": [
              "((70000, 784), (70000,))"
            ]
          },
          "metadata": {
            "tags": []
          },
          "execution_count": 2
        }
      ]
    },
    {
      "cell_type": "code",
      "metadata": {
        "colab": {
          "base_uri": "https://localhost:8080/",
          "height": 248
        },
        "id": "D-DuEchtwMOx",
        "outputId": "862f67fa-097a-4d31-cb48-12f466e67fed"
      },
      "source": [
        "import matplotlib as mpl\n",
        "import matplotlib.pyplot as plt\n",
        "\n",
        "some_digit = X[0]\n",
        "some_digit_image = some_digit.reshape(28,28)\n",
        "\n",
        "plt.imshow(some_digit_image, cmap=\"binary\")\n",
        "plt.axis(\"off\")\n",
        "plt.show()"
      ],
      "execution_count": 3,
      "outputs": [
        {
          "output_type": "display_data",
          "data": {
            "image/png": "[encoded data removed]",
            "text/plain": [
              "<Figure size 432x288 with 1 Axes>"
            ]
          },
          "metadata": {
            "tags": [],
            "needs_background": "light"
          }
        }
      ]
    },
    {
      "cell_type": "code",
      "metadata": {
        "colab": {
          "base_uri": "https://localhost:8080/",
          "height": 35
        },
        "id": "_opCd7i-wMOx",
        "outputId": "d25bcc0c-0a6f-4372-fbc8-f21488a5e34d"
      },
      "source": [
        "y[0]"
      ],
      "execution_count": 4,
      "outputs": [
        {
          "output_type": "execute_result",
          "data": {
            "application/vnd.google.colaboratory.intrinsic+json": {
              "type": "string"
            },
            "text/plain": [
              "'5'"
            ]
          },
          "metadata": {
            "tags": []
          },
          "execution_count": 4
        }
      ]
    },
    {
      "cell_type": "code",
      "metadata": {
        "id": "xSa4nkWlwMOz"
      },
      "source": [
        "import numpy as np\n",
        "y = y.astype(np.uint8)"
      ],
      "execution_count": 5,
      "outputs": []
    },
    {
      "cell_type": "code",
      "metadata": {
        "id": "kEjwYyFvwMOz"
      },
      "source": [
        "# 훈련 세트는 이미 섞여있는 상태.\n",
        "X_train, X_test, y_train, y_test = X[:60000], X[60000:], y[:60000], y[60000:]"
      ],
      "execution_count": 6,
      "outputs": []
    },
    {
      "cell_type": "markdown",
      "metadata": {
        "id": "Tl5BzdK5wMO0"
      },
      "source": [
        "#### 이진 분류 (숫자 5 True/False)"
      ]
    },
    {
      "cell_type": "code",
      "metadata": {
        "id": "-x6Up8ELwMO1"
      },
      "source": [
        "y_train_5 = (y_train == 5)\n",
        "y_test_5 = (y_test == 5)"
      ],
      "execution_count": 7,
      "outputs": []
    },
    {
      "cell_type": "code",
      "metadata": {
        "colab": {
          "base_uri": "https://localhost:8080/"
        },
        "id": "3n364fvmwMO1",
        "outputId": "af8cf41e-cb63-413b-af88-1b437bea28bc"
      },
      "source": [
        "from sklearn.linear_model import SGDClassifier\n",
        "\n",
        "sgd_clf = SGDClassifier(random_state=4)\n",
        "sgd_clf.fit(X_train, y_train_5)"
      ],
      "execution_count": 8,
      "outputs": [
        {
          "output_type": "execute_result",
          "data": {
            "text/plain": [
              "SGDClassifier(alpha=0.0001, average=False, class_weight=None,\n",
              "              early_stopping=False, epsilon=0.1, eta0=0.0, fit_intercept=True,\n",
              "              l1_ratio=0.15, learning_rate='optimal', loss='hinge',\n",
              "              max_iter=1000, n_iter_no_change=5, n_jobs=None, penalty='l2',\n",
              "              power_t=0.5, random_state=4, shuffle=True, tol=0.001,\n",
              "              validation_fraction=0.1, verbose=0, warm_start=False)"
            ]
          },
          "metadata": {
            "tags": []
          },
          "execution_count": 8
        }
      ]
    },
    {
      "cell_type": "code",
      "metadata": {
        "colab": {
          "base_uri": "https://localhost:8080/"
        },
        "id": "OUtojsiEwMO2",
        "outputId": "a354e3de-bf9e-4f58-9f70-2be87cbe7971"
      },
      "source": [
        "sgd_clf.predict([some_digit])"
      ],
      "execution_count": 9,
      "outputs": [
        {
          "output_type": "execute_result",
          "data": {
            "text/plain": [
              "array([ True])"
            ]
          },
          "metadata": {
            "tags": []
          },
          "execution_count": 9
        }
      ]
    },
    {
      "cell_type": "code",
      "metadata": {
        "colab": {
          "base_uri": "https://localhost:8080/"
        },
        "id": "39UYzOqjwMO3",
        "outputId": "ffd51aac-9c41-4173-c00b-2b5bfed9bdd3"
      },
      "source": [
        "# 추가 교차 검증\n",
        "# cross_val_score과 거의 동일하지만, 데이터 편향을 막기 위해 계층별로 교차검증\n",
        "# 일반적으로 회귀는 cross_val_score, 분류는 stratifiedKFold를 많이 이용\n",
        "# cross_val_score 내부적으로 stratifiedKFold를 사용하고 있음\n",
        "from sklearn.model_selection import StratifiedKFold\n",
        "from sklearn.base import clone\n",
        "\n",
        "skfolds = StratifiedKFold(n_splits=3, random_state=42, shuffle=True)\n",
        "\n",
        "for train_index, test_index in skfolds.split(X_train, y_train_5):\n",
        "    clone_clf = clone(sgd_clf)\n",
        "    X_train_folds = X_train[train_index]\n",
        "    y_train_folds = y_train_5[train_index]\n",
        "    X_test_fold = X_train[test_index]\n",
        "    y_test_fold = y_train_5[test_index]\n",
        "    \n",
        "    clone_clf.fit(X_train_folds, y_train_folds)\n",
        "    y_pred = clone_clf.predict(X_test_fold)\n",
        "    n_correct = sum(y_pred == y_test_fold)\n",
        "    print(n_correct/len(y_pred))"
      ],
      "execution_count": 10,
      "outputs": [
        {
          "output_type": "stream",
          "text": [
            "0.96835\n",
            "0.95135\n",
            "0.9405\n"
          ],
          "name": "stdout"
        }
      ]
    },
    {
      "cell_type": "code",
      "metadata": {
        "colab": {
          "base_uri": "https://localhost:8080/"
        },
        "id": "sc3dkhj-wMO3",
        "outputId": "83d65e88-57f5-4ea1-c3b6-b188f7f839ab"
      },
      "source": [
        "from sklearn.model_selection import cross_val_score\n",
        "cross_val_score(sgd_clf, X_train, y_train_5, cv=3, scoring=\"accuracy\")"
      ],
      "execution_count": 11,
      "outputs": [
        {
          "output_type": "execute_result",
          "data": {
            "text/plain": [
              "array([0.9695, 0.9675, 0.9628])"
            ]
          },
          "metadata": {
            "tags": []
          },
          "execution_count": 11
        }
      ]
    },
    {
      "cell_type": "code",
      "metadata": {
        "id": "swzZAHqiwMO4"
      },
      "source": [
        "# 더미 분류기 (5가 아닌 이미지)\n",
        "# 무조건 아니라고 설정. (90% 확률로 정답)\n",
        "from sklearn.base import BaseEstimator\n",
        "\n",
        "class Never5Classifier(BaseEstimator):\n",
        "    def fit(self, X,y=None):\n",
        "        return self\n",
        "    def predict(self, X):\n",
        "        return np.zeros((len(X), 1), dtype=bool)"
      ],
      "execution_count": 12,
      "outputs": []
    },
    {
      "cell_type": "code",
      "metadata": {
        "colab": {
          "base_uri": "https://localhost:8080/"
        },
        "id": "AM3ZZz7JwMO5",
        "outputId": "d0c471b7-f608-45fa-dd63-27a7a8866676"
      },
      "source": [
        "never_5_clf = Never5Classifier()\n",
        "cross_val_score(never_5_clf, X_train, y_train_5, cv=3, scoring=\"accuracy\")"
      ],
      "execution_count": 13,
      "outputs": [
        {
          "output_type": "execute_result",
          "data": {
            "text/plain": [
              "array([0.91125, 0.90855, 0.90915])"
            ]
          },
          "metadata": {
            "tags": []
          },
          "execution_count": 13
        }
      ]
    },
    {
      "cell_type": "markdown",
      "metadata": {
        "id": "YLUpGHCUwMO5"
      },
      "source": [
        "### 오차 행렬"
      ]
    },
    {
      "cell_type": "code",
      "metadata": {
        "id": "1wLsjDqLwMO6"
      },
      "source": [
        "from sklearn.model_selection import cross_val_predict\n",
        "\n",
        "y_train_pred = cross_val_predict(sgd_clf, X_train, y_train_5, cv=3)"
      ],
      "execution_count": 14,
      "outputs": []
    },
    {
      "cell_type": "code",
      "metadata": {
        "colab": {
          "base_uri": "https://localhost:8080/"
        },
        "id": "ojh4oqA8wMO6",
        "outputId": "7de7e9b2-830d-4104-f316-d66ebd14747d"
      },
      "source": [
        "from sklearn.metrics import confusion_matrix\n",
        "\n",
        "confusion_matrix(y_train_5, y_train_pred) # 행 - 실제 클래스, 열 - 예측 클래스"
      ],
      "execution_count": 15,
      "outputs": [
        {
          "output_type": "execute_result",
          "data": {
            "text/plain": [
              "array([[53729,   850],\n",
              "       [ 1154,  4267]])"
            ]
          },
          "metadata": {
            "tags": []
          },
          "execution_count": 15
        }
      ]
    },
    {
      "cell_type": "code",
      "metadata": {
        "colab": {
          "base_uri": "https://localhost:8080/"
        },
        "id": "GqoN2hgQwMO7",
        "outputId": "4faaca9a-6124-4a0d-e004-9dfac71ebeeb"
      },
      "source": [
        "confusion_matrix(y_train_5, y_train_5) # 완벽한 상태"
      ],
      "execution_count": 16,
      "outputs": [
        {
          "output_type": "execute_result",
          "data": {
            "text/plain": [
              "array([[54579,     0],\n",
              "       [    0,  5421]])"
            ]
          },
          "metadata": {
            "tags": []
          },
          "execution_count": 16
        }
      ]
    },
    {
      "cell_type": "code",
      "metadata": {
        "colab": {
          "base_uri": "https://localhost:8080/"
        },
        "id": "fuuCaR3FwMO8",
        "outputId": "834db098-7723-4bcb-f15b-df1801ac2336"
      },
      "source": [
        "# 정밀도, 재현율\n",
        "from sklearn.metrics import precision_score, recall_score\n",
        "\n",
        "precision_score(y_train_5, y_train_pred)"
      ],
      "execution_count": 17,
      "outputs": [
        {
          "output_type": "execute_result",
          "data": {
            "text/plain": [
              "0.8338870431893688"
            ]
          },
          "metadata": {
            "tags": []
          },
          "execution_count": 17
        }
      ]
    },
    {
      "cell_type": "code",
      "metadata": {
        "colab": {
          "base_uri": "https://localhost:8080/"
        },
        "id": "_R7aleOYwMO8",
        "outputId": "8d070d75-ad9d-46b2-bc55-13cc0bbc6870"
      },
      "source": [
        "recall_score(y_train_5, y_train_pred)"
      ],
      "execution_count": 18,
      "outputs": [
        {
          "output_type": "execute_result",
          "data": {
            "text/plain": [
              "0.7871241468363771"
            ]
          },
          "metadata": {
            "tags": []
          },
          "execution_count": 18
        }
      ]
    },
    {
      "cell_type": "code",
      "metadata": {
        "colab": {
          "base_uri": "https://localhost:8080/"
        },
        "id": "JDGQb8EcwMO9",
        "outputId": "ff500893-073b-4295-8172-aec2915edf86"
      },
      "source": [
        "# f1_score: 정밀도와 재현율의 조화 평균\n",
        "from sklearn.metrics import f1_score\n",
        "f1_score(y_train_5, y_train_pred)"
      ],
      "execution_count": 19,
      "outputs": [
        {
          "output_type": "execute_result",
          "data": {
            "text/plain": [
              "0.8098310874928828"
            ]
          },
          "metadata": {
            "tags": []
          },
          "execution_count": 19
        }
      ]
    },
    {
      "cell_type": "code",
      "metadata": {
        "colab": {
          "base_uri": "https://localhost:8080/"
        },
        "id": "XnsbGKx5wMO9",
        "outputId": "9d1962a2-fca2-4a6e-c5f4-64fd83e4718f"
      },
      "source": [
        "#정밀도와 재현율 두마리 토끼는 불가능. - 정밀도/재현율 트레이드오프\n",
        "# 임곗값 탐색\n",
        "y_scores = sgd_clf.decision_function([some_digit])\n",
        "y_scores"
      ],
      "execution_count": 20,
      "outputs": [
        {
          "output_type": "execute_result",
          "data": {
            "text/plain": [
              "array([1570.91971558])"
            ]
          },
          "metadata": {
            "tags": []
          },
          "execution_count": 20
        }
      ]
    },
    {
      "cell_type": "code",
      "metadata": {
        "id": "juQWeXMpwMO-",
        "scrolled": true
      },
      "source": [
        "y_scores = cross_val_predict(sgd_clf, X_train, y_train_5, cv=3,\n",
        "                            method=\"decision_function\")"
      ],
      "execution_count": 21,
      "outputs": []
    },
    {
      "cell_type": "code",
      "metadata": {
        "id": "2UVousB2wMO_"
      },
      "source": [
        "from sklearn.metrics import precision_recall_curve\n",
        "\n",
        "precisions, recalls, thresholds =  precision_recall_curve(y_train_5, y_scores)"
      ],
      "execution_count": 22,
      "outputs": []
    },
    {
      "cell_type": "code",
      "metadata": {
        "colab": {
          "base_uri": "https://localhost:8080/",
          "height": 265
        },
        "id": "ZiCqhGJVwMO_",
        "outputId": "ed437393-ccb9-424b-f19b-18a7e7a0877e"
      },
      "source": [
        "def plot_precision_recall_vs_threshold(precisions, recalls, thresholds):\n",
        "    plt.plot(thresholds, precisions[:-1], \"b--\", label=\"precision\"),\n",
        "    plt.plot(thresholds, recalls[:-1], \"g-\", label=\"recall\")\n",
        "    plt.grid(True)\n",
        "    plt.legend()\n",
        "\n",
        "plot_precision_recall_vs_threshold(precisions, recalls, thresholds)\n",
        "plt.show()"
      ],
      "execution_count": 23,
      "outputs": [
        {
          "output_type": "display_data",
          "data": {
            "image/png": "[encoded data removed]",
            "text/plain": [
              "<Figure size 432x288 with 1 Axes>"
            ]
          },
          "metadata": {
            "tags": [],
            "needs_background": "light"
          }
        }
      ]
    },
    {
      "cell_type": "code",
      "metadata": {
        "colab": {
          "base_uri": "https://localhost:8080/",
          "height": 283
        },
        "id": "T1B4mh5nwMPA",
        "outputId": "f4a51b3e-1acb-4d9f-b4e9-2619f8f020c5"
      },
      "source": [
        "plt.plot(recalls[:-1], precisions[:-1])\n",
        "plt.xlabel(\"precision\")\n",
        "plt.ylabel(\"recall\")\n",
        "plt.xlim([0,1])\n",
        "plt.ylim([0,1])\n",
        "plt.show()"
      ],
      "execution_count": 24,
      "outputs": [
        {
          "output_type": "display_data",
          "data": {
            "image/png": "[encoded data removed]",
            "text/plain": [
              "<Figure size 432x288 with 1 Axes>"
            ]
          },
          "metadata": {
            "tags": [],
            "needs_background": "light"
          }
        }
      ]
    },
    {
      "cell_type": "code",
      "metadata": {
        "id": "DLWYzybVwMPA"
      },
      "source": [
        "threshold_90_precision = thresholds[np.argmax(precisions >= 0.90)]"
      ],
      "execution_count": 25,
      "outputs": []
    },
    {
      "cell_type": "code",
      "metadata": {
        "id": "oN-LUfjFwMPB"
      },
      "source": [
        "y_train_pred_90 = (y_scores >= threshold_90_precision)"
      ],
      "execution_count": 26,
      "outputs": []
    },
    {
      "cell_type": "code",
      "metadata": {
        "colab": {
          "base_uri": "https://localhost:8080/"
        },
        "id": "lW65sBIRwMPB",
        "outputId": "48d0d7f5-49a6-443f-bf5c-84e62cc54fab"
      },
      "source": [
        "precision_score(y_train_5, y_train_pred_90)"
      ],
      "execution_count": 27,
      "outputs": [
        {
          "output_type": "execute_result",
          "data": {
            "text/plain": [
              "0.9000480538202787"
            ]
          },
          "metadata": {
            "tags": []
          },
          "execution_count": 27
        }
      ]
    },
    {
      "cell_type": "code",
      "metadata": {
        "colab": {
          "base_uri": "https://localhost:8080/"
        },
        "id": "xXqWwrNbwMPB",
        "outputId": "8b7f07ba-4ca1-46e0-86bc-36cce19152d7"
      },
      "source": [
        "recall_score(y_train_5, y_train_pred_90)"
      ],
      "execution_count": 28,
      "outputs": [
        {
          "output_type": "execute_result",
          "data": {
            "text/plain": [
              "0.6910164176351227"
            ]
          },
          "metadata": {
            "tags": []
          },
          "execution_count": 28
        }
      ]
    },
    {
      "cell_type": "code",
      "metadata": {
        "id": "yu4t8cd2wMPC"
      },
      "source": [
        "# 이진 분류에서 널리 사용하는 ROC 곡선\n",
        "from sklearn.metrics import roc_curve \n",
        "fpr, tpr, thresholds = roc_curve(y_train_5, y_scores)"
      ],
      "execution_count": 29,
      "outputs": []
    },
    {
      "cell_type": "code",
      "metadata": {
        "colab": {
          "base_uri": "https://localhost:8080/",
          "height": 283
        },
        "id": "9DjYC1sxwMPC",
        "outputId": "d3be5ba2-44d9-4a00-8165-3fc4b7e732d2"
      },
      "source": [
        "def plot_roc_curve(fpr, tpr, label=None):\n",
        "    plt.plot(fpr, tpr, linewidth=2, label=label)\n",
        "    plt.plot([0,1], [0,1], 'k--')\n",
        "    plt.grid(True)\n",
        "    plt.xlim([0,1])\n",
        "    plt.ylim([0,1])\n",
        "    plt.xlabel(\"False Positive Rate\")\n",
        "    plt.ylabel(\"True Positive Rate\") # 재현율과 같음\n",
        "    \n",
        "plot_roc_curve(fpr, tpr)\n",
        "plt.show()"
      ],
      "execution_count": 30,
      "outputs": [
        {
          "output_type": "display_data",
          "data": {
            "image/png": "[encoded data removed]",
            "text/plain": [
              "<Figure size 432x288 with 1 Axes>"
            ]
          },
          "metadata": {
            "tags": [],
            "needs_background": "light"
          }
        }
      ]
    },
    {
      "cell_type": "markdown",
      "metadata": {
        "id": "K7aNRgDRwMPD"
      },
      "source": [
        "AUC (area under the curve)\n",
        "- 완벽한 분류기의 AUC는 1에 가깝고,\n",
        "- 완전한 랜덤 분류기의 AUC는 0.5다. (대각 직선)"
      ]
    },
    {
      "cell_type": "code",
      "metadata": {
        "colab": {
          "base_uri": "https://localhost:8080/"
        },
        "id": "t01C2dY9wMPD",
        "outputId": "1a531004-c9ef-496a-d60b-1b2e24ebf5b5"
      },
      "source": [
        "from sklearn.metrics import roc_auc_score\n",
        "roc_auc_score(y_train_5, y_scores)"
      ],
      "execution_count": 31,
      "outputs": [
        {
          "output_type": "execute_result",
          "data": {
            "text/plain": [
              "0.9652964469094635"
            ]
          },
          "metadata": {
            "tags": []
          },
          "execution_count": 31
        }
      ]
    },
    {
      "cell_type": "code",
      "metadata": {
        "id": "AF1-0pYawMPE"
      },
      "source": [
        "from sklearn.ensemble import RandomForestClassifier\n",
        "\n",
        "forest_clf = RandomForestClassifier(random_state=42)\n",
        "y_probas_forest = cross_val_predict(forest_clf, X_train, y_train_5, cv=3,\n",
        "                                   method=\"predict_proba\")"
      ],
      "execution_count": 32,
      "outputs": []
    },
    {
      "cell_type": "code",
      "metadata": {
        "id": "H_uz4DnewMPE"
      },
      "source": [
        "y_scores_forest = y_probas_forest[:,1] # 양성 클래스만 사용\n",
        "fpr_forest, tpr_forest, thresholds_forest, = roc_curve(y_train_5, y_scores_forest)"
      ],
      "execution_count": 33,
      "outputs": []
    },
    {
      "cell_type": "code",
      "metadata": {
        "colab": {
          "base_uri": "https://localhost:8080/",
          "height": 283
        },
        "id": "CroRfSYxwMPF",
        "outputId": "429651b2-2e81-4ef8-e458-fab14dcf0419"
      },
      "source": [
        "plt.plot(fpr, tpr, \"b:\", label=\"SGD\")\n",
        "plot_roc_curve(fpr_forest,tpr_forest, \"Random Forest\")\n",
        "plt.legend(loc=\"lower right\")\n",
        "plt.show()"
      ],
      "execution_count": 34,
      "outputs": [
        {
          "output_type": "display_data",
          "data": {
            "image/png": "[encoded data removed]",
            "text/plain": [
              "<Figure size 432x288 with 1 Axes>"
            ]
          },
          "metadata": {
            "tags": [],
            "needs_background": "light"
          }
        }
      ]
    },
    {
      "cell_type": "code",
      "metadata": {
        "colab": {
          "base_uri": "https://localhost:8080/"
        },
        "id": "WTgc1ewrwMPF",
        "outputId": "0d1786b1-e224-4484-dc8f-f3febd0dc00a"
      },
      "source": [
        "roc_auc_score(y_train_5, y_scores_forest)"
      ],
      "execution_count": 35,
      "outputs": [
        {
          "output_type": "execute_result",
          "data": {
            "text/plain": [
              "0.9983436731328145"
            ]
          },
          "metadata": {
            "tags": []
          },
          "execution_count": 35
        }
      ]
    },
    {
      "cell_type": "markdown",
      "metadata": {
        "id": "cD6z0bFowMPG"
      },
      "source": [
        "### 다중 분류\n",
        "OvO, OvR\n",
        "- 이진 분류기를 여러 개 사용해 다중 클래스를 분류할 수도 있음.\n",
        "- 이진 분류기 사용 시 사이킷런에서 자동으로 OvR 또는 OvO 실행"
      ]
    },
    {
      "cell_type": "code",
      "metadata": {
        "colab": {
          "base_uri": "https://localhost:8080/"
        },
        "id": "8RlXSDRmwMPG",
        "outputId": "4d3339e6-9ff3-4e90-b973-1f7cd12f959d"
      },
      "source": [
        "from sklearn.svm import SVC\n",
        "\n",
        "svm_clf = SVC()\n",
        "svm_clf.fit(X_train, y_train)\n",
        "svm_clf.predict([some_digit])"
      ],
      "execution_count": 36,
      "outputs": [
        {
          "output_type": "execute_result",
          "data": {
            "text/plain": [
              "array([5], dtype=uint8)"
            ]
          },
          "metadata": {
            "tags": []
          },
          "execution_count": 36
        }
      ]
    },
    {
      "cell_type": "code",
      "metadata": {
        "id": "C1bOtGKdwMPH"
      },
      "source": [
        "some_digit_scores = svm_clf.decision_function([some_digit])"
      ],
      "execution_count": 37,
      "outputs": []
    },
    {
      "cell_type": "code",
      "metadata": {
        "colab": {
          "base_uri": "https://localhost:8080/"
        },
        "id": "SKAiec5JwMPH",
        "outputId": "fda90123-568c-49f7-fc20-f82ac65bfd6a"
      },
      "source": [
        "np.argmax(some_digit_scores)"
      ],
      "execution_count": 38,
      "outputs": [
        {
          "output_type": "execute_result",
          "data": {
            "text/plain": [
              "5"
            ]
          },
          "metadata": {
            "tags": []
          },
          "execution_count": 38
        }
      ]
    },
    {
      "cell_type": "code",
      "metadata": {
        "colab": {
          "base_uri": "https://localhost:8080/"
        },
        "id": "I6k4ppDf_DvP",
        "outputId": "20078db4-2533-4abc-c061-292b4d360bfe"
      },
      "source": [
        "svm_clf.classes_"
      ],
      "execution_count": 39,
      "outputs": [
        {
          "output_type": "execute_result",
          "data": {
            "text/plain": [
              "array([0, 1, 2, 3, 4, 5, 6, 7, 8, 9], dtype=uint8)"
            ]
          },
          "metadata": {
            "tags": []
          },
          "execution_count": 39
        }
      ]
    },
    {
      "cell_type": "code",
      "metadata": {
        "colab": {
          "base_uri": "https://localhost:8080/"
        },
        "id": "9M3YqAxi_L6S",
        "outputId": "cd7d7b78-7a2b-4e21-8b31-3e33b5464df8"
      },
      "source": [
        "svm_clf.classes_[5]"
      ],
      "execution_count": 40,
      "outputs": [
        {
          "output_type": "execute_result",
          "data": {
            "text/plain": [
              "5"
            ]
          },
          "metadata": {
            "tags": []
          },
          "execution_count": 40
        }
      ]
    },
    {
      "cell_type": "code",
      "metadata": {
        "colab": {
          "base_uri": "https://localhost:8080/"
        },
        "id": "6-T3gyg9_Pdh",
        "outputId": "d947dcb0-8fe3-4278-90ed-a5b25589f8b4"
      },
      "source": [
        "# OvR 강제\r\n",
        "from sklearn.multiclass import OneVsRestClassifier\r\n",
        "\r\n",
        "ovr_clf = OneVsRestClassifier(SVC())\r\n",
        "ovr_clf.fit(X_train, y_train)\r\n",
        "ovr_clf.predict([some_digit])"
      ],
      "execution_count": 41,
      "outputs": [
        {
          "output_type": "execute_result",
          "data": {
            "text/plain": [
              "array([5], dtype=uint8)"
            ]
          },
          "metadata": {
            "tags": []
          },
          "execution_count": 41
        }
      ]
    },
    {
      "cell_type": "code",
      "metadata": {
        "colab": {
          "base_uri": "https://localhost:8080/"
        },
        "id": "volV58f0_6eo",
        "outputId": "6f0f74f1-c462-49a9-bc29-ad1ca9678f06"
      },
      "source": [
        "len(ovr_clf.estimators_)"
      ],
      "execution_count": 42,
      "outputs": [
        {
          "output_type": "execute_result",
          "data": {
            "text/plain": [
              "10"
            ]
          },
          "metadata": {
            "tags": []
          },
          "execution_count": 42
        }
      ]
    },
    {
      "cell_type": "code",
      "metadata": {
        "colab": {
          "base_uri": "https://localhost:8080/"
        },
        "id": "ETXvxJz_BYle",
        "outputId": "ae2531bc-3397-4099-ccd0-240c64082e65"
      },
      "source": [
        "from sklearn.preprocessing import StandardScaler\r\n",
        "\r\n",
        "scaler = StandardScaler()\r\n",
        "X_train_scaled = scaler.fit_transform(X_train.astype(np.float64))\r\n",
        "cross_val_score(sgd_clf, X_train_scaled, y_train, cv=3, scoring=\"accuracy\")"
      ],
      "execution_count": 43,
      "outputs": [
        {
          "output_type": "stream",
          "text": [
            "/usr/local/lib/python3.6/dist-packages/sklearn/linear_model/_stochastic_gradient.py:557: ConvergenceWarning: Maximum number of iteration reached before convergence. Consider increasing max_iter to improve the fit.\n",
            "  ConvergenceWarning)\n"
          ],
          "name": "stderr"
        },
        {
          "output_type": "execute_result",
          "data": {
            "text/plain": [
              "array([0.89985, 0.89505, 0.90465])"
            ]
          },
          "metadata": {
            "tags": []
          },
          "execution_count": 43
        }
      ]
    },
    {
      "cell_type": "markdown",
      "metadata": {
        "id": "2sZGz-cIPuy2"
      },
      "source": [
        "### 에러분석\r\n"
      ]
    },
    {
      "cell_type": "code",
      "metadata": {
        "colab": {
          "base_uri": "https://localhost:8080/"
        },
        "id": "sfyMyC0ZVvJt",
        "outputId": "124ed1ce-e0ba-4b5f-e5db-a9bba0b09a2c"
      },
      "source": [
        "# 오차행렬\r\n",
        "y_train_pred = cross_val_predict(sgd_clf, X_train_scaled, y_train, cv=3)\r\n",
        "conf_mx = confusion_matrix(y_train, y_train_pred)\r\n",
        "conf_mx"
      ],
      "execution_count": 44,
      "outputs": [
        {
          "output_type": "stream",
          "text": [
            "/usr/local/lib/python3.6/dist-packages/sklearn/linear_model/_stochastic_gradient.py:557: ConvergenceWarning: Maximum number of iteration reached before convergence. Consider increasing max_iter to improve the fit.\n",
            "  ConvergenceWarning)\n"
          ],
          "name": "stderr"
        },
        {
          "output_type": "execute_result",
          "data": {
            "text/plain": [
              "array([[5587,    0,   23,    5,    9,   48,   36,    6,  208,    1],\n",
              "       [   0, 6409,   38,   25,    4,   44,    4,    8,  199,   11],\n",
              "       [  27,   27, 5248,   94,   72,   28,   66,   40,  346,   10],\n",
              "       [  23,   18,  119, 5242,    2,  214,   27,   41,  374,   71],\n",
              "       [  12,   14,   49,   10, 5209,   12,   36,   25,  309,  166],\n",
              "       [  27,   16,   34,  171,   54, 4480,   78,   16,  486,   59],\n",
              "       [  30,   16,   45,    2,   42,   98, 5559,    3,  122,    1],\n",
              "       [  21,   11,   53,   29,   51,   13,    3, 5707,  171,  206],\n",
              "       [  18,   65,   47,   89,    3,  127,   25,   10, 5422,   45],\n",
              "       [  26,   19,   29,   65,  116,   39,    1,  181,  345, 5128]])"
            ]
          },
          "metadata": {
            "tags": []
          },
          "execution_count": 44
        }
      ]
    },
    {
      "cell_type": "code",
      "metadata": {
        "colab": {
          "base_uri": "https://localhost:8080/",
          "height": 275
        },
        "id": "tzMT6AkZPtHg",
        "outputId": "463565d7-9329-4b51-f5ef-792fc3e947e9"
      },
      "source": [
        "plt.matshow(conf_mx, cmap=plt.cm.gray)\r\n",
        "plt.show()"
      ],
      "execution_count": 45,
      "outputs": [
        {
          "output_type": "display_data",
          "data": {
            "image/png": "[encoded data removed]",
            "text/plain": [
              "<Figure size 288x288 with 1 Axes>"
            ]
          },
          "metadata": {
            "tags": [],
            "needs_background": "light"
          }
        }
      ]
    },
    {
      "cell_type": "code",
      "metadata": {
        "id": "LPREWjSnP7mn"
      },
      "source": [
        "row_sums = conf_mx.sum(axis=1, keepdims=True)\r\n",
        "norm_conf_mx = conf_mx / row_sums"
      ],
      "execution_count": 46,
      "outputs": []
    },
    {
      "cell_type": "code",
      "metadata": {
        "colab": {
          "base_uri": "https://localhost:8080/",
          "height": 275
        },
        "id": "9n053aL_QRyY",
        "outputId": "e7612a67-a10b-4458-93b4-2543753c624b"
      },
      "source": [
        "np.fill_diagonal(norm_conf_mx, 0)\r\n",
        "plt.matshow(norm_conf_mx, cmap=plt.cm.gray)\r\n",
        "plt.show()"
      ],
      "execution_count": 47,
      "outputs": [
        {
          "output_type": "display_data",
          "data": {
            "image/png": "[encoded data removed]",
            "text/plain": [
              "<Figure size 288x288 with 1 Axes>"
            ]
          },
          "metadata": {
            "tags": [],
            "needs_background": "light"
          }
        }
      ]
    },
    {
      "cell_type": "code",
      "metadata": {
        "id": "-riL7Zt4gzyR"
      },
      "source": [
        "def plot_digits(instances, images_per_row=10, **options):\r\n",
        "    size = 28\r\n",
        "    images_per_row = min(len(instances), images_per_row)\r\n",
        "    images = [instance.reshape(size,size) for instance in instances]\r\n",
        "    n_rows = (len(instances) - 1) // images_per_row + 1\r\n",
        "    row_images = []\r\n",
        "    n_empty = n_rows * images_per_row - len(instances)\r\n",
        "    images.append(np.zeros((size, size * n_empty)))\r\n",
        "    for row in range(n_rows):\r\n",
        "        rimages = images[row * images_per_row : (row + 1) * images_per_row]\r\n",
        "        row_images.append(np.concatenate(rimages, axis=1))\r\n",
        "    image = np.concatenate(row_images, axis=0)\r\n",
        "    plt.imshow(image, cmap = plt.cm.binary, **options)\r\n",
        "    plt.axis(\"off\")"
      ],
      "execution_count": 51,
      "outputs": []
    },
    {
      "cell_type": "code",
      "metadata": {
        "colab": {
          "base_uri": "https://localhost:8080/",
          "height": 466
        },
        "id": "XRFbLahIRIlH",
        "outputId": "ea54fc34-9033-4191-a83b-3d64ae334050"
      },
      "source": [
        "cl_a, cl_b = 3, 5\r\n",
        "X_aa = X_train[(y_train == cl_a) & (y_train_pred == cl_a)]\r\n",
        "X_ab = X_train[(y_train == cl_a) & (y_train_pred == cl_b)]\r\n",
        "X_ba = X_train[(y_train == cl_b) & (y_train_pred == cl_a)]\r\n",
        "X_bb = X_train[(y_train == cl_b) & (y_train_pred == cl_b)]\r\n",
        "\r\n",
        "plt.figure(figsize=(8,8))\r\n",
        "plt.subplot(221); plot_digits(X_aa[:25], images_per_row=5)  # plot_digits - 단순히 matplotlib의 imshow() 함수를 사용하는 함수임\r\n",
        "plt.subplot(222); plot_digits(X_aa[:25], images_per_row=5)\r\n",
        "plt.subplot(223); plot_digits(X_aa[:25], images_per_row=5)\r\n",
        "plt.subplot(224); plot_digits(X_aa[:25], images_per_row=5)\r\n",
        "plt.show()"
      ],
      "execution_count": 52,
      "outputs": [
        {
          "output_type": "display_data",
          "data": {
            "image/png": "[encoded data removed]",
            "text/plain": [
              "<Figure size 576x576 with 4 Axes>"
            ]
          },
          "metadata": {
            "tags": [],
            "needs_background": "light"
          }
        }
      ]
    },
    {
      "cell_type": "markdown",
      "metadata": {
        "id": "Fv682zsrSGmd"
      },
      "source": [
        "### 다중 레이블 분류"
      ]
    },
    {
      "cell_type": "code",
      "metadata": {
        "colab": {
          "base_uri": "https://localhost:8080/"
        },
        "id": "QK4RDv7KRmBw",
        "outputId": "879e4ee9-c753-4a23-962e-9db44b1a2678"
      },
      "source": [
        "from sklearn.neighbors import KNeighborsClassifier\r\n",
        "\r\n",
        "y_train_large = (y_train >= 7)\r\n",
        "y_train_odd = (y_train % 2 == 1)\r\n",
        "y_multilabel = np.c_[y_train_large, y_train_odd]\r\n",
        "\r\n",
        "knn_clf = KNeighborsClassifier()\r\n",
        "knn_clf.fit(X_train, y_multilabel)"
      ],
      "execution_count": 53,
      "outputs": [
        {
          "output_type": "execute_result",
          "data": {
            "text/plain": [
              "KNeighborsClassifier(algorithm='auto', leaf_size=30, metric='minkowski',\n",
              "                     metric_params=None, n_jobs=None, n_neighbors=5, p=2,\n",
              "                     weights='uniform')"
            ]
          },
          "metadata": {
            "tags": []
          },
          "execution_count": 53
        }
      ]
    },
    {
      "cell_type": "code",
      "metadata": {
        "colab": {
          "base_uri": "https://localhost:8080/"
        },
        "id": "wBWZEqPPSpvv",
        "outputId": "1df1ec2c-f4a2-4559-d2b1-522d9b048498"
      },
      "source": [
        "knn_clf.predict([some_digit])"
      ],
      "execution_count": 55,
      "outputs": [
        {
          "output_type": "execute_result",
          "data": {
            "text/plain": [
              "array([[False,  True]])"
            ]
          },
          "metadata": {
            "tags": []
          },
          "execution_count": 55
        }
      ]
    },
    {
      "cell_type": "code",
      "metadata": {
        "colab": {
          "base_uri": "https://localhost:8080/"
        },
        "id": "truG54ULSt7w",
        "outputId": "8a5ce523-e8c8-4732-d930-52d4915e3b69"
      },
      "source": [
        "y_train_knn_pred = cross_val_predict(knn_clf, X_train, y_multilabel, cv=3)\r\n",
        "f1_score(y_multilabel, y_train_knn_pred, average=\"macro\")"
      ],
      "execution_count": 58,
      "outputs": [
        {
          "output_type": "execute_result",
          "data": {
            "text/plain": [
              "0.976410265560605"
            ]
          },
          "metadata": {
            "tags": []
          },
          "execution_count": 58
        }
      ]
    },
    {
      "cell_type": "markdown",
      "metadata": {
        "id": "1MHvh7m_UsWO"
      },
      "source": [
        "### 다중 출력 분류"
      ]
    },
    {
      "cell_type": "code",
      "metadata": {
        "id": "0Xlqn2kPUzRe"
      },
      "source": [
        "noise = np.random.randint(0, 100, (len(X_train), 784))\r\n",
        "X_train_mod = X_train + noise\r\n",
        "noise = np.random.randint(0, 100, (len(X_test), 784))\r\n",
        "X_test_mod = X_test + noise\r\n",
        "y_train_mod = X_train\r\n",
        "y_test_mod = X_test"
      ],
      "execution_count": 61,
      "outputs": []
    },
    {
      "cell_type": "code",
      "metadata": {
        "colab": {
          "base_uri": "https://localhost:8080/",
          "height": 248
        },
        "id": "FbFsNP9QV_7P",
        "outputId": "8674be7a-8d88-4ce0-980d-dd5cc014c205"
      },
      "source": [
        "knn_clf.fit(X_train_mod, y_train_mod)\r\n",
        "clean_digit = knn_clf.predict([X_test_mod[0]])\r\n",
        "plot_digits(clean_digit)"
      ],
      "execution_count": 64,
      "outputs": [
        {
          "output_type": "display_data",
          "data": {
            "image/png": "[encoded data removed]",
            "text/plain": [
              "<Figure size 432x288 with 1 Axes>"
            ]
          },
          "metadata": {
            "tags": [],
            "needs_background": "light"
          }
        }
      ]
    },
    {
      "cell_type": "code",
      "metadata": {
        "id": "PgwLGOZfV2yS"
      },
      "source": [
        ""
      ],
      "execution_count": null,
      "outputs": []
    }
  ]
}